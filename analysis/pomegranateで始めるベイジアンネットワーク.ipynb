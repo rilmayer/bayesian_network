{
 "cells": [
  {
   "cell_type": "markdown",
   "metadata": {},
   "source": [
    "# ここでやること\n",
    "pomegranateを使って簡単なベイジアンネットワークを構成して、推論をしてみる。\n",
    "\n",
    "## 今回作るネットワーク\n",
    "外的要因（大気汚染、パンデミック）が肺がんの有無に影響を与え、肺がんかどうかが検査薬の結果に影響を与えるというベイジアンネットワークを考える。\n",
    "構造としては以下の通り。\n",
    "\n",
    "* ノード\n",
    "    * 空気環境（Crearn or bad）\n",
    "    * パンデミックが起こっているかどうか（Yes or No）\n",
    "    * 肺がんかどうか（Yes or No）\n",
    "    * 検査薬の結果(陽性 or 陰性)\n",
    "    \n",
    "* エッジ\n",
    "    * 空気環境 → 肺がん\n",
    "    * パンデミック → 肺がん\n",
    "    * 肺がん → 検査薬\n",
    "    \n",
    "## 推論\n",
    "初期に与えた確率分布の元、それぞれのノードの確率分布がどのように変化するかをみる。\n",
    "その後、あるノードの値を設定した場合（例えば「検査薬が陽性」など）の各ノードの変化をみる。"
   ]
  },
  {
   "cell_type": "code",
   "execution_count": 1,
   "metadata": {
    "collapsed": false
   },
   "outputs": [],
   "source": [
    "from pomegranate import *"
   ]
  },
  {
   "cell_type": "code",
   "execution_count": 2,
   "metadata": {
    "collapsed": false
   },
   "outputs": [],
   "source": [
    "# 外部環境的な確率変数\n",
    "\n",
    "# 大気の状態\n",
    "atmosphere = DiscreteDistribution( { 'Clearn': 4./5, 'Bad': 1./5} )\n",
    "\n",
    "# パンデミックが起こっているかどうか\n",
    "pandemic = DiscreteDistribution( { 'Yes': 1./10, 'No': 9./10 } )\n",
    "\n",
    "# 肺がんかどうか\n",
    "#     肺がんの確率は大気の状態とパンデミックかどうかに依存している。\n",
    "#     以下はP(肺がん | 大気, パンデミック) で表される確率を設定している。\n",
    "#     例えば、P(肺がん = 'Yes' | 大気 = 'Clearn', パンデミック = 'No') の場合の確率値は0.2となる。\n",
    "lung_cancer = ConditionalProbabilityTable(\n",
    "        [['Clearn', 'No', 'Yes', 0.2],\n",
    "         ['Clearn', 'No', 'No', 0.8],\n",
    "         ['Clearn', 'Yes', 'Yes', 0.6],\n",
    "         ['Clearn', 'Yes', 'No', 0.4],\n",
    "         ['Bad', 'No', 'Yes', 0.6],\n",
    "         ['Bad', 'No', 'No', 0.4],\n",
    "         ['Bad', 'Yes', 'Yes', 0.9],\n",
    "         ['Bad', 'Yes', 'No', 0.1]], [atmosphere, pandemic] )\n",
    "\n",
    "# 検査薬が陽性か陰性か\n",
    "#     検査薬の確率は肺がんかどうかに依存している。\n",
    "#     以下はP(検査薬 | 肺がん) で表される確率を設定している。\n",
    "#     例えば、P(検査薬 = 'Positive' | 肺がん = 'Yes') の場合の確率値は0.8となる。\n",
    "test_reagent = ConditionalProbabilityTable(\n",
    "         [['Yes', 'Positive', 0.8],\n",
    "          ['Yes', 'Negative', 0.2],\n",
    "          ['No', 'Positive', 0.2],\n",
    "          ['No', 'Negative', 0.8]], [lung_cancer] )\n",
    "\n",
    "\n",
    "# ベイジアンネットワークを初期化\n",
    "model = BayesianNetwork( \"Test Lung Cancer\" )\n",
    "\n",
    "# ノードを生成\n",
    "s1 = Node( atmosphere, name=\"atmosphere\" )\n",
    "s2 = Node( pandemic, name=\"pandemic\" )\n",
    "s3 = Node( lung_cancer, name=\"lung_cancer\" )\n",
    "s4 = Node( test_reagent, name=\"test_reagent\" )\n",
    "\n",
    "# 4つのノードをモデルに追加\n",
    "model.add_nodes(s1, s2, s3, s4)\n",
    "\n",
    "# ノード間にエッジを張る\n",
    "model.add_edge(s1, s3)\n",
    "model.add_edge(s2, s3)\n",
    "model.add_edge(s3, s4)\n",
    "model.bake()"
   ]
  },
  {
   "cell_type": "code",
   "execution_count": 3,
   "metadata": {
    "collapsed": false
   },
   "outputs": [
    {
     "data": {
      "image/png": "[encoded data removed]",
      "text/plain": [
       "<matplotlib.figure.Figure at 0x10d9aff60>"
      ]
     },
     "metadata": {},
     "output_type": "display_data"
    }
   ],
   "source": [
    "# モデルを描画してみる\n",
    "%matplotlib inline\n",
    "\n",
    "model.plot()"
   ]
  },
  {
   "cell_type": "code",
   "execution_count": 4,
   "metadata": {
    "collapsed": false,
    "scrolled": true
   },
   "outputs": [
    {
     "name": "stdout",
     "output_type": "stream",
     "text": [
      "\n",
      "大気の状態きれい、パンデミックなし、肺がんではない、検査薬は陰性\n",
      " [ 0.4608]\n",
      "\n",
      "大気の状態綺麗、パンデミックなし、肺がん、検査薬は陽性\n",
      " [ 0.0864]\n"
     ]
    }
   ],
   "source": [
    "# それぞれのノードの確率分布が以下のようになる時、ベイジアンネットワークの状態の確率を計算\n",
    "\n",
    "# 大気の状態 ['Clearn', 'Bad']\n",
    "# パンデミックが起こっているかどうか ['Yes', 'No']\n",
    "# 肺がんかどうか ['Yes', 'No']\n",
    "# 検査薬が陽性か陰性か ['Positive', 'Negative']\n",
    "\n",
    "state_1 = \"\"\"\n",
    "大気の状態きれい、パンデミックなし、肺がんではない、検査薬は陰性\n",
    "\"\"\"\n",
    "print(state_1, model.probability(['Clearn', 'No', 'No', 'Negative']))\n",
    "\n",
    "state_2 = \"\"\"\n",
    "大気の状態綺麗、パンデミックなし、肺がん、検査薬は陽性\n",
    "\"\"\"\n",
    "print(state_2, model.probability(['Bad', 'No', 'Yes', 'Positive']))"
   ]
  },
  {
   "cell_type": "code",
   "execution_count": 5,
   "metadata": {
    "collapsed": false
   },
   "outputs": [
    {
     "name": "stdout",
     "output_type": "stream",
     "text": [
      "大気状態の確率分布 {'Bad': 0.20000000000000026, 'Clearn': 0.79999999999999982}\n",
      "パンデミックの確率分布 {'No': 0.89999999999999958, 'Yes': 0.10000000000000035}\n",
      "肺がんの確率分布 {'No': 0.68199999999999972, 'Yes': 0.31800000000000034}\n",
      "検査薬の確率分布 {'Negative': 0.60919999999999974, 'Positive': 0.3908000000000002}\n"
     ]
    }
   ],
   "source": [
    "# それぞれのノードの確率を計算する\n",
    "# pomegranateは推論に loopy belief propogationアルゴリズム（近似アルゴリズム）を使っている\n",
    "\n",
    "# 引数が空（{}）の時は全てのノードの初期状態\n",
    "default_model = model.predict_proba({})\n",
    "\n",
    "print('大気状態の確率分布', default_model[0].parameters[0])\n",
    "print('パンデミックの確率分布', default_model[1].parameters[0])\n",
    "print('肺がんの確率分布', default_model[2].parameters[0]) # Yesが100%\n",
    "print('検査薬の確率分布', default_model[3].parameters[0])"
   ]
  },
  {
   "cell_type": "code",
   "execution_count": 6,
   "metadata": {
    "collapsed": false
   },
   "outputs": [
    {
     "name": "stdout",
     "output_type": "stream",
     "text": [
      "大気状態の確率分布 {'Bad': 0.39622641509433981, 'Clearn': 0.60377358490566024}\n",
      "パンデミックの確率分布 {'No': 0.79245283018867863, 'Yes': 0.20754716981132135}\n",
      "肺がんの確率分布 {'No': 0.0, 'Yes': 1.0}\n",
      "検査薬の確率分布 {'Negative': 0.20000000000000015, 'Positive': 0.79999999999999993}\n"
     ]
    }
   ],
   "source": [
    "# 他の値を変えた時にどんな感じになるか予測する\n",
    "# 肺がんである時の全ノードの確率\n",
    "lung_cancer_yes_model = model.predict_proba({\"lung_cancer\": \"Yes\"})\n",
    "\n",
    "print('大気状態の確率分布', lung_cancer_yes_model[0].parameters[0])\n",
    "print('パンデミックの確率分布', lung_cancer_yes_model[1].parameters[0])\n",
    "print('肺がんの確率分布', lung_cancer_yes_model[2].parameters[0]) # Yesが100%\n",
    "print('検査薬の確率分布', lung_cancer_yes_model[3].parameters[0])"
   ]
  },
  {
   "cell_type": "code",
   "execution_count": 7,
   "metadata": {
    "collapsed": false
   },
   "outputs": [
    {
     "name": "stdout",
     "output_type": "stream",
     "text": [
      "大気状態の確率分布 {'Bad': 1.0, 'Clearn': 0.0}\n",
      "パンデミックの確率分布 {'No': 0.87197231833909994, 'Yes': 0.12802768166090009}\n",
      "肺がんの確率分布 {'No': 0.12802768166089978, 'Yes': 0.87197231833910016}\n",
      "検査薬の確率分布 {'Negative': 0.0, 'Positive': 1.0}\n"
     ]
    }
   ],
   "source": [
    "# 大気汚染、かつ検査薬陽性である時の全ノードの確率\n",
    "atmosphere_Bad_test_reagent_Positive_model = model.predict_proba({\"atmosphere\": \"Bad\", \"test_reagent\": \"Positive\"})\n",
    "print('大気状態の確率分布', atmosphere_Bad_test_reagent_Positive_model[0].parameters[0]) # Badが100%\n",
    "print('パンデミックの確率分布', atmosphere_Bad_test_reagent_Positive_model[1].parameters[0])\n",
    "print('肺がんの確率分布', atmosphere_Bad_test_reagent_Positive_model[2].parameters[0]) \n",
    "print('検査薬の確率分布', atmosphere_Bad_test_reagent_Positive_model[3].parameters[0]) # Positiveが100%"
   ]
  },
  {
   "cell_type": "code",
   "execution_count": null,
   "metadata": {
    "collapsed": true
   },
   "outputs": [],
   "source": []
  },
  {
   "cell_type": "markdown",
   "metadata": {},
   "source": [
    "## おまけ：確率テーブルを作る\n",
    "確率テーブル作るのは大変なので、その辺を確率値だけの設定でいけるようにする"
   ]
  },
  {
   "cell_type": "code",
   "execution_count": 8,
   "metadata": {
    "collapsed": false
   },
   "outputs": [
    {
     "data": {
      "text/plain": [
       "([['Bad', 'No', 'Yes', 0.2],\n",
       "  ['Bad', 'No', 'No', 0.8],\n",
       "  ['Bad', 'Yes', 'Yes', 0.6],\n",
       "  ['Bad', 'Yes', 'No', 0.4],\n",
       "  ['Clearn', 'No', 'Yes', 0.6],\n",
       "  ['Clearn', 'No', 'No', 0.4],\n",
       "  ['Clearn', 'Yes', 'Yes', 0.9],\n",
       "  ['Clearn', 'Yes', 'No', 0.1]],\n",
       " [['Yes', 'Positive', 0.8],\n",
       "  ['Yes', 'Negative', 0.2],\n",
       "  ['No', 'Positive', 0.2],\n",
       "  ['No', 'Negative', 0.8]])"
      ]
     },
     "execution_count": 8,
     "metadata": {},
     "output_type": "execute_result"
    }
   ],
   "source": [
    "import itertools\n",
    "\n",
    "# 病気の状態を記述するための確率テーブルを作る\n",
    "atmosphere_parameters = list(atmosphere.parameters[0].keys())\n",
    "pandemic_parameters = list(pandemic.parameters[0].keys())\n",
    "lung_cancer_parameters = ['Yes', 'No']\n",
    "\n",
    "cartesian_product_1 = itertools.product(atmosphere_parameters, pandemic_parameters, lung_cancer_parameters)\n",
    "\n",
    "# 確率値を設定\n",
    "prob_vals = [0.2, 0.8, 0.6, 0.4, 0.6, 0.4, 0.9, 0.1]\n",
    "probability_table = [list(state) + [prob_val]  for state, prob_val in zip(cartesian_product_1, prob_vals)]\n",
    "\n",
    "# 検査薬の状態を記述するための確率テーブルを作る\n",
    "lung_cancer_parameters = ['Yes', 'No']\n",
    "test_reagent_parameters = ['Positive', 'Negative']\n",
    "\n",
    "cartesian_product_2 = itertools.product(lung_cancer_parameters, test_reagent_parameters)\n",
    "\n",
    "# 確率値を設定\n",
    "prob_vals = [0.8, 0.2, 0.2, 0.8]\n",
    "\n",
    "probability_table_2 = [list(state) + [prob_val]  for state, prob_val in zip(cartesian_product_2, prob_vals)]\n",
    "\n",
    "# 中身を確認\n",
    "probability_table, probability_table_2"
   ]
  },
  {
   "cell_type": "code",
   "execution_count": null,
   "metadata": {
    "collapsed": true
   },
   "outputs": [],
   "source": []
  }
 ],
 "metadata": {
  "kernelspec": {
   "display_name": "Python 3",
   "language": "python",
   "name": "python3"
  },
  "language_info": {
   "codemirror_mode": {
    "name": "ipython",
    "version": 3
   },
   "file_extension": ".py",
   "mimetype": "text/x-python",
   "name": "python",
   "nbconvert_exporter": "python",
   "pygments_lexer": "ipython3",
   "version": "3.5.4"
  }
 },
 "nbformat": 4,
 "nbformat_minor": 0
}
